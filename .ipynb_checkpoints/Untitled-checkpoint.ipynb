{
 "cells": [
  {
   "cell_type": "code",
   "execution_count": 11,
   "metadata": {},
   "outputs": [],
   "source": [
    "#jupyter notebook file containing Journal class\n",
    "from entry import Entry\n",
    "import pandas as pd\n",
    "\n",
    "\n",
    "class Journal():\n",
    "    \"\"\"\n",
    "    Journal is a base class, responsible for CRUD operations of the entire collection of \n",
    "    entries \n",
    "\n",
    "\n",
    "    Instance Attributes:\n",
    "\n",
    "        head (Entry) points to first Entry in the collection\n",
    "        filename (string) string identifying the csv file the journal reads and writes from\n",
    "    \"\"\"\n",
    "\n",
    "        \n",
    "    def __init__(self):\n",
    "        # Initialization needs to read in a file, store the contents \n",
    "        self.filename = None\n",
    "        self._head = None\n",
    "    \n",
    "    @classmethod\n",
    "    def read(cls, filename):\n",
    "        if filename:\n",
    "            cls._df = pd.read_csv(filename)\n",
    "        return cls._df\n",
    "\n"
   ]
  },
  {
   "cell_type": "code",
   "execution_count": 16,
   "metadata": {},
   "outputs": [
    {
     "data": {
      "text/plain": [
       "Index(['sleep status', 'column 2', 'column 3'], dtype='object')"
      ]
     },
     "execution_count": 16,
     "metadata": {},
     "output_type": "execute_result"
    }
   ],
   "source": [
    "df = Journal.read(\"csv_file.csv\")\n",
    "df.columns"
   ]
  },
  {
   "cell_type": "code",
   "execution_count": 17,
   "metadata": {},
   "outputs": [
    {
     "data": {
      "text/plain": [
       "0    entry 1\n",
       "Name: sleep status, dtype: object"
      ]
     },
     "execution_count": 17,
     "metadata": {},
     "output_type": "execute_result"
    }
   ],
   "source": [
    "df[\"sleep status\"]"
   ]
  },
  {
   "cell_type": "code",
   "execution_count": null,
   "metadata": {},
   "outputs": [],
   "source": []
  }
 ],
 "metadata": {
  "kernelspec": {
   "display_name": "Python [conda env:PythonData] *",
   "language": "python",
   "name": "conda-env-PythonData-py"
  },
  "language_info": {
   "codemirror_mode": {
    "name": "ipython",
    "version": 3
   },
   "file_extension": ".py",
   "mimetype": "text/x-python",
   "name": "python",
   "nbconvert_exporter": "python",
   "pygments_lexer": "ipython3",
   "version": "3.6.12"
  }
 },
 "nbformat": 4,
 "nbformat_minor": 4
}
