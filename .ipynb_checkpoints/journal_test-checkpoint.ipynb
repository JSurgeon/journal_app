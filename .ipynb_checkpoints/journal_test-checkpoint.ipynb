{
 "cells": [
  {
   "cell_type": "code",
   "execution_count": 1,
   "metadata": {},
   "outputs": [],
   "source": [
    "#jupyter notebook file containing Journal class\n",
    "# import dependencies\n",
    "\n",
    "from entry import Entry\n",
    "import pandas as pd"
   ]
  },
  {
   "cell_type": "code",
   "execution_count": 9,
   "metadata": {},
   "outputs": [],
   "source": [
    "class Journal():\n",
    "    \"\"\"\n",
    "    Journal is a base class, responsible for CRUD operations of the entire collection of \n",
    "    entries \n",
    "\n",
    "\n",
    "    Instance Attributes:\n",
    "    \n",
    "        filename (string) string identifying the csv file the journal reads and writes from\n",
    "    \"\"\"\n",
    "    def __init__(self, **kwargs):\n",
    "        if(\"filename\" in kwargs):\n",
    "            self.filename = kwargs[\"filename\"]\n",
    "            ###### read file in and create dataframe\n",
    "            self.dataframe = pd.read_csv(self.filename)\n",
    "        \n",
    "        else:\n",
    "            self.dataframe = pd.DataFrame(data=data, columns=kwargs[\"columns\"])\n",
    "            \n",
    "    @classmethod\n",
    "    def read(cls, file):\n",
    "        if file:\n",
    "            return cls(filename=file)\n",
    "        return None\n",
    "    \n",
    "    @classmethod\n",
    "    def new(cls):\n",
    "        columns = [\"sleep_location\", \"fell_asleep_time\", \"wake_up_time\", \"sleep_quality\",\\\n",
    "          \"tobacco_bool\", \"tobacco_start_time\", \"tobacco_location\", \"cigs_count\", \"tobacco_quality\",\\\n",
    "          \"alcohol_bool\", \"alcohol_start_time\", \"alcohol_location\", \"drinks_count\",\\\n",
    "          \"exercise1_bool\", \"exercis1e_type\", \"exercis1e_loc\", \"exercise1_start\", \"exercise1_end\", \"exercise1_intensity\", \"exercise1_quality\",\\\n",
    "          \"exercise2_bool\",\"exercise2_type\", \"exercise2_loc\", \"exercise2_start\", \"exercise2_end\",\\\n",
    "          \"exercise2_intensity\", \"exercise2_quality\"]\n",
    "        \n",
    "        response = input(\"Would you like to add a new entry? (y/n)\")\n",
    "        while (response.capitalize() != 'N') and (response.capitalize() != \"Y\"):\n",
    "            print(f'response == \"Y\": {response.capitalize() == \"Y\"}')\n",
    "            print(f'response != \"Y\": {response.capitalize() != \"Y\"}')\n",
    "\n",
    "            response = input(\"Unacceptable response: please respond with 'y' to add a new entry or 'n' not to\")\n",
    "\n",
    "        while response.capitalize() == 'Y':\n",
    "            new_entry = Entry().new()\n",
    "            print(new_entry)\n",
    "        return cls(data= data, columsn=columns)\n",
    "    \n",
    "    # instance method self.write()\n",
    "    def write(self, file):\n",
    "        try:\n",
    "            self.dataframe.to_csv(file)\n",
    "        \n",
    "        except AttributeError:\n",
    "            print(\"Journal object is empty: dataframe attribute is Nonetype\")\n",
    "            return False\n",
    "\n",
    "        else:\n",
    "            print(f\"Journal object's dataframe successfully written to {file}\")\n",
    "            return True\n",
    "        \n",
    "    "
   ]
  },
  {
   "cell_type": "code",
   "execution_count": 10,
   "metadata": {},
   "outputs": [
    {
     "data": {
      "text/html": [
       "<div>\n",
       "<style scoped>\n",
       "    .dataframe tbody tr th:only-of-type {\n",
       "        vertical-align: middle;\n",
       "    }\n",
       "\n",
       "    .dataframe tbody tr th {\n",
       "        vertical-align: top;\n",
       "    }\n",
       "\n",
       "    .dataframe thead th {\n",
       "        text-align: right;\n",
       "    }\n",
       "</style>\n",
       "<table border=\"1\" class=\"dataframe\">\n",
       "  <thead>\n",
       "    <tr style=\"text-align: right;\">\n",
       "      <th></th>\n",
       "      <th>sleep status</th>\n",
       "      <th>column 2</th>\n",
       "      <th>column 3</th>\n",
       "    </tr>\n",
       "  </thead>\n",
       "  <tbody>\n",
       "    <tr>\n",
       "      <th>0</th>\n",
       "      <td>entry 1</td>\n",
       "      <td>entry 2</td>\n",
       "      <td>entry 3</td>\n",
       "    </tr>\n",
       "  </tbody>\n",
       "</table>\n",
       "</div>"
      ],
      "text/plain": [
       "  sleep status column 2 column 3\n",
       "0      entry 1  entry 2  entry 3"
      ]
     },
     "execution_count": 10,
     "metadata": {},
     "output_type": "execute_result"
    }
   ],
   "source": [
    "journal = Journal.read(\"csv_file.csv\")\n",
    "journal.dataframe"
   ]
  },
  {
   "cell_type": "code",
   "execution_count": 11,
   "metadata": {},
   "outputs": [
    {
     "name": "stdout",
     "output_type": "stream",
     "text": [
      "Would you like to add a new entry? (y/n)y\n",
      "response == \"Y\": True\n",
      "response != \"Y\": False\n",
      "Unacceptable response: please respond with 'y' to add a new entry or 'n' not toc\n",
      "response == \"Y\": False\n",
      "response != \"Y\": True\n",
      "Unacceptable response: please respond with 'y' to add a new entry or 'n' not ton\n",
      "response == \"Y\": False\n",
      "response != \"Y\": True\n"
     ]
    },
    {
     "ename": "KeyboardInterrupt",
     "evalue": "Interrupted by user",
     "output_type": "error",
     "traceback": [
      "\u001b[1;31m---------------------------------------------------------------------------\u001b[0m",
      "\u001b[1;31mKeyboardInterrupt\u001b[0m                         Traceback (most recent call last)",
      "\u001b[1;32m<ipython-input-11-a56b799ef4e0>\u001b[0m in \u001b[0;36m<module>\u001b[1;34m\u001b[0m\n\u001b[1;32m----> 1\u001b[1;33m \u001b[0mjournal\u001b[0m \u001b[1;33m=\u001b[0m \u001b[0mJournal\u001b[0m\u001b[1;33m.\u001b[0m\u001b[0mnew\u001b[0m\u001b[1;33m(\u001b[0m\u001b[1;33m)\u001b[0m\u001b[1;33m\u001b[0m\u001b[1;33m\u001b[0m\u001b[0m\n\u001b[0m",
      "\u001b[1;32m<ipython-input-9-b4d7ca67b56a>\u001b[0m in \u001b[0;36mnew\u001b[1;34m(cls)\u001b[0m\n\u001b[0;32m     38\u001b[0m             \u001b[0mprint\u001b[0m\u001b[1;33m(\u001b[0m\u001b[1;34mf'response != \"Y\": {response.capitalize() != \"Y\"}'\u001b[0m\u001b[1;33m)\u001b[0m\u001b[1;33m\u001b[0m\u001b[1;33m\u001b[0m\u001b[0m\n\u001b[0;32m     39\u001b[0m \u001b[1;33m\u001b[0m\u001b[0m\n\u001b[1;32m---> 40\u001b[1;33m             \u001b[0mresponse\u001b[0m \u001b[1;33m=\u001b[0m \u001b[0minput\u001b[0m\u001b[1;33m(\u001b[0m\u001b[1;34m\"Unacceptable response: please respond with 'y' to add a new entry or 'n' not to\"\u001b[0m\u001b[1;33m)\u001b[0m\u001b[1;33m\u001b[0m\u001b[1;33m\u001b[0m\u001b[0m\n\u001b[0m\u001b[0;32m     41\u001b[0m \u001b[1;33m\u001b[0m\u001b[0m\n\u001b[0;32m     42\u001b[0m         \u001b[1;32mwhile\u001b[0m \u001b[0mresponse\u001b[0m\u001b[1;33m.\u001b[0m\u001b[0mcapitalize\u001b[0m\u001b[1;33m(\u001b[0m\u001b[1;33m)\u001b[0m \u001b[1;33m==\u001b[0m \u001b[1;34m'Y'\u001b[0m\u001b[1;33m:\u001b[0m\u001b[1;33m\u001b[0m\u001b[1;33m\u001b[0m\u001b[0m\n",
      "\u001b[1;32m~\\anaconda3\\lib\\site-packages\\ipykernel\\kernelbase.py\u001b[0m in \u001b[0;36mraw_input\u001b[1;34m(self, prompt)\u001b[0m\n\u001b[0;32m    858\u001b[0m                 \u001b[1;34m\"raw_input was called, but this frontend does not support input requests.\"\u001b[0m\u001b[1;33m\u001b[0m\u001b[1;33m\u001b[0m\u001b[0m\n\u001b[0;32m    859\u001b[0m             )\n\u001b[1;32m--> 860\u001b[1;33m         return self._input_request(str(prompt),\n\u001b[0m\u001b[0;32m    861\u001b[0m             \u001b[0mself\u001b[0m\u001b[1;33m.\u001b[0m\u001b[0m_parent_ident\u001b[0m\u001b[1;33m,\u001b[0m\u001b[1;33m\u001b[0m\u001b[1;33m\u001b[0m\u001b[0m\n\u001b[0;32m    862\u001b[0m             \u001b[0mself\u001b[0m\u001b[1;33m.\u001b[0m\u001b[0m_parent_header\u001b[0m\u001b[1;33m,\u001b[0m\u001b[1;33m\u001b[0m\u001b[1;33m\u001b[0m\u001b[0m\n",
      "\u001b[1;32m~\\anaconda3\\lib\\site-packages\\ipykernel\\kernelbase.py\u001b[0m in \u001b[0;36m_input_request\u001b[1;34m(self, prompt, ident, parent, password)\u001b[0m\n\u001b[0;32m    902\u001b[0m             \u001b[1;32mexcept\u001b[0m \u001b[0mKeyboardInterrupt\u001b[0m\u001b[1;33m:\u001b[0m\u001b[1;33m\u001b[0m\u001b[1;33m\u001b[0m\u001b[0m\n\u001b[0;32m    903\u001b[0m                 \u001b[1;31m# re-raise KeyboardInterrupt, to truncate traceback\u001b[0m\u001b[1;33m\u001b[0m\u001b[1;33m\u001b[0m\u001b[1;33m\u001b[0m\u001b[0m\n\u001b[1;32m--> 904\u001b[1;33m                 \u001b[1;32mraise\u001b[0m \u001b[0mKeyboardInterrupt\u001b[0m\u001b[1;33m(\u001b[0m\u001b[1;34m\"Interrupted by user\"\u001b[0m\u001b[1;33m)\u001b[0m \u001b[1;32mfrom\u001b[0m \u001b[1;32mNone\u001b[0m\u001b[1;33m\u001b[0m\u001b[1;33m\u001b[0m\u001b[0m\n\u001b[0m\u001b[0;32m    905\u001b[0m             \u001b[1;32mexcept\u001b[0m \u001b[0mException\u001b[0m \u001b[1;32mas\u001b[0m \u001b[0me\u001b[0m\u001b[1;33m:\u001b[0m\u001b[1;33m\u001b[0m\u001b[1;33m\u001b[0m\u001b[0m\n\u001b[0;32m    906\u001b[0m                 \u001b[0mself\u001b[0m\u001b[1;33m.\u001b[0m\u001b[0mlog\u001b[0m\u001b[1;33m.\u001b[0m\u001b[0mwarning\u001b[0m\u001b[1;33m(\u001b[0m\u001b[1;34m\"Invalid Message:\"\u001b[0m\u001b[1;33m,\u001b[0m \u001b[0mexc_info\u001b[0m\u001b[1;33m=\u001b[0m\u001b[1;32mTrue\u001b[0m\u001b[1;33m)\u001b[0m\u001b[1;33m\u001b[0m\u001b[1;33m\u001b[0m\u001b[0m\n",
      "\u001b[1;31mKeyboardInterrupt\u001b[0m: Interrupted by user"
     ]
    }
   ],
   "source": [
    "journal = Journal.new()"
   ]
  },
  {
   "cell_type": "code",
   "execution_count": null,
   "metadata": {},
   "outputs": [],
   "source": []
  }
 ],
 "metadata": {
  "kernelspec": {
   "display_name": "Python 3",
   "language": "python",
   "name": "python3"
  },
  "language_info": {
   "codemirror_mode": {
    "name": "ipython",
    "version": 3
   },
   "file_extension": ".py",
   "mimetype": "text/x-python",
   "name": "python",
   "nbconvert_exporter": "python",
   "pygments_lexer": "ipython3",
   "version": "3.8.8"
  }
 },
 "nbformat": 4,
 "nbformat_minor": 4
}
