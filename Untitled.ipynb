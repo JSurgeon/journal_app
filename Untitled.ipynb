{
 "cells": [
  {
   "cell_type": "code",
   "execution_count": 1,
   "id": "1b33bce0",
   "metadata": {},
   "outputs": [],
   "source": [
    "from journal import Journal"
   ]
  },
  {
   "cell_type": "code",
   "execution_count": 2,
   "id": "d3aa47ad",
   "metadata": {},
   "outputs": [
    {
     "name": "stdout",
     "output_type": "stream",
     "text": [
      "hello\n",
      "Would you like to add a new entry? (y/n)y\n",
      "\n",
      "Collecting data about last night's sleep\n",
      "~~~~~~~~~~~~~~~~~~~~~~~~~~~~~~~~~~~~~~~\n",
      "\n",
      "\n",
      "Where did you sleep?\n",
      "home\n",
      "\n",
      "About when did you fall asleep last night?\n",
      "1\n",
      "\n",
      "How many times were you woken up?\n",
      "1\n",
      "\n",
      "How well did you sleep?\n",
      "1) Terrible\n",
      "2) Bad\n",
      "3) Okay\n",
      "4) Good\n",
      "5) Great\n",
      "1\n",
      "\n",
      "What time did you wake up this morning?\n",
      "1\n",
      "\n",
      "Collecting data about today's Tobacco and Alcohol use\n",
      "~~~~~~~~~~~~~~~~~~~~~~~~~~~~~~~~~~~~\n",
      "\n",
      "\n",
      "Did you use Tobacco today? (Y/N)\n",
      "n\n",
      "\n",
      "Did you use Alcohol today? (Y/N)\n",
      "n\n",
      "Collecting data about today's Exercise\n",
      "~~~~~~~~~~~~~~~~~~~~~~~~~~~~~~~~~~~~\n",
      "\n",
      "Did you exercise today? (Y/N)\n",
      "n\n",
      "Would you like to add another entry?y\n",
      "\n",
      "Collecting data about last night's sleep\n",
      "~~~~~~~~~~~~~~~~~~~~~~~~~~~~~~~~~~~~~~~\n",
      "\n",
      "\n",
      "Where did you sleep?\n",
      "away\n",
      "\n",
      "About when did you fall asleep last night?\n",
      "2\n",
      "\n",
      "How many times were you woken up?\n",
      "2\n",
      "\n",
      "How well did you sleep?\n",
      "1) Terrible\n",
      "2) Bad\n",
      "3) Okay\n",
      "4) Good\n",
      "5) Great\n",
      "2\n",
      "\n",
      "What time did you wake up this morning?\n",
      "2\n",
      "\n",
      "Collecting data about today's Tobacco and Alcohol use\n",
      "~~~~~~~~~~~~~~~~~~~~~~~~~~~~~~~~~~~~\n",
      "\n",
      "\n",
      "Did you use Tobacco today? (Y/N)\n",
      "n\n",
      "\n",
      "Did you use Alcohol today? (Y/N)\n",
      "n\n",
      "Collecting data about today's Exercise\n",
      "~~~~~~~~~~~~~~~~~~~~~~~~~~~~~~~~~~~~\n",
      "\n",
      "Did you exercise today? (Y/N)\n",
      "n\n",
      "Would you like to add another entry?n\n"
     ]
    }
   ],
   "source": [
    "from journal import Journal\n",
    "print(\"hello\")\n",
    "j = Journal().new()"
   ]
  },
  {
   "cell_type": "code",
   "execution_count": 3,
   "id": "46388a28",
   "metadata": {},
   "outputs": [
    {
     "data": {
      "text/html": [
       "<div>\n",
       "<style scoped>\n",
       "    .dataframe tbody tr th:only-of-type {\n",
       "        vertical-align: middle;\n",
       "    }\n",
       "\n",
       "    .dataframe tbody tr th {\n",
       "        vertical-align: top;\n",
       "    }\n",
       "\n",
       "    .dataframe thead th {\n",
       "        text-align: right;\n",
       "    }\n",
       "</style>\n",
       "<table border=\"1\" class=\"dataframe\">\n",
       "  <thead>\n",
       "    <tr style=\"text-align: right;\">\n",
       "      <th></th>\n",
       "      <th>date</th>\n",
       "      <th>time</th>\n",
       "      <th>sleep_location</th>\n",
       "      <th>fell_asleep_time</th>\n",
       "      <th>wake_up_time</th>\n",
       "      <th>sleep_quality</th>\n",
       "    </tr>\n",
       "  </thead>\n",
       "  <tbody>\n",
       "    <tr>\n",
       "      <th>0</th>\n",
       "      <td>2021-11-04</td>\n",
       "      <td>2021-11-04 12:48:54.044454</td>\n",
       "      <td>Home</td>\n",
       "      <td>1</td>\n",
       "      <td>1</td>\n",
       "      <td>Terrible</td>\n",
       "    </tr>\n",
       "    <tr>\n",
       "      <th>0</th>\n",
       "      <td>2021-11-04</td>\n",
       "      <td>2021-11-04 12:49:02.252890</td>\n",
       "      <td>Away</td>\n",
       "      <td>2</td>\n",
       "      <td>2</td>\n",
       "      <td>Bad</td>\n",
       "    </tr>\n",
       "  </tbody>\n",
       "</table>\n",
       "</div>"
      ],
      "text/plain": [
       "         date                       time sleep_location  fell_asleep_time  \\\n",
       "0  2021-11-04 2021-11-04 12:48:54.044454           Home                 1   \n",
       "0  2021-11-04 2021-11-04 12:49:02.252890           Away                 2   \n",
       "\n",
       "   wake_up_time sleep_quality  \n",
       "0             1      Terrible  \n",
       "0             2           Bad  "
      ]
     },
     "execution_count": 3,
     "metadata": {},
     "output_type": "execute_result"
    }
   ],
   "source": [
    "j.dataframe"
   ]
  },
  {
   "cell_type": "code",
   "execution_count": 4,
   "id": "ebfe43f1",
   "metadata": {},
   "outputs": [
    {
     "name": "stdout",
     "output_type": "stream",
     "text": [
      "Journal object's dataframe successfully written to csv.csv\n"
     ]
    },
    {
     "data": {
      "text/plain": [
       "True"
      ]
     },
     "execution_count": 4,
     "metadata": {},
     "output_type": "execute_result"
    }
   ],
   "source": [
    "j.write(\"csv.csv\")"
   ]
  },
  {
   "cell_type": "code",
   "execution_count": 5,
   "id": "562ffe89",
   "metadata": {},
   "outputs": [
    {
     "name": "stdout",
     "output_type": "stream",
     "text": [
      "file called\n"
     ]
    }
   ],
   "source": [
    "new_journal = Journal.read(\"csv.csv\")"
   ]
  },
  {
   "cell_type": "code",
   "execution_count": null,
   "id": "c7776015",
   "metadata": {},
   "outputs": [],
   "source": []
  }
 ],
 "metadata": {
  "kernelspec": {
   "display_name": "Python 3",
   "language": "python",
   "name": "python3"
  },
  "language_info": {
   "codemirror_mode": {
    "name": "ipython",
    "version": 3
   },
   "file_extension": ".py",
   "mimetype": "text/x-python",
   "name": "python",
   "nbconvert_exporter": "python",
   "pygments_lexer": "ipython3",
   "version": "3.8.8"
  }
 },
 "nbformat": 4,
 "nbformat_minor": 5
}
