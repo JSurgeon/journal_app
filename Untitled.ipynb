{
 "cells": [
  {
   "cell_type": "code",
   "execution_count": 1,
   "id": "1b33bce0",
   "metadata": {},
   "outputs": [],
   "source": [
    "from journal import Journal"
   ]
  },
  {
   "cell_type": "code",
   "execution_count": 2,
   "id": "d3aa47ad",
   "metadata": {},
   "outputs": [
    {
     "name": "stdout",
     "output_type": "stream",
     "text": [
      "Would you like to add a new entry? (y/n)y\n",
      "\n",
      "Collecting data about last night's sleep\n",
      "~~~~~~~~~~~~~~~~~~~~~~~~~~~~~~~~~~~~~~~\n",
      "\n",
      "\n",
      "Where did you sleep?\n",
      "home\n",
      "\n",
      "About when did you fall asleep last night?\n",
      "12:30\n",
      "\n",
      "How many times were you woken up?\n",
      "4\n",
      "\n",
      "How well did you sleep?\n",
      "1) Terrible\n",
      "2) Bad\n",
      "3) Okay\n",
      "4) Good\n",
      "5) Great\n",
      "4\n",
      "\n",
      "What time did you wake up this morning?\n",
      "7:15\n",
      "\n",
      "Collecting data about today's Tobacco and Alcohol use\n",
      "~~~~~~~~~~~~~~~~~~~~~~~~~~~~~~~~~~~~\n",
      "\n",
      "\n",
      "Did you use Tobacco today? (Y/N)\n",
      "n\n",
      "\n",
      "Did you use Alcohol today? (Y/N)\n",
      "n\n",
      "Collecting data about today's Exercise\n",
      "~~~~~~~~~~~~~~~~~~~~~~~~~~~~~~~~~~~~\n",
      "\n",
      "Did you exercise today? (Y/N)\n",
      "n\n",
      "Would you like to add another entry?y\n",
      "\n",
      "Collecting data about last night's sleep\n",
      "~~~~~~~~~~~~~~~~~~~~~~~~~~~~~~~~~~~~~~~\n",
      "\n",
      "\n",
      "Where did you sleep?\n",
      "apartment\n",
      "\n",
      "About when did you fall asleep last night?\n",
      "8:15\n",
      "\n",
      "How many times were you woken up?\n",
      "3\n",
      "\n",
      "How well did you sleep?\n",
      "1) Terrible\n",
      "2) Bad\n",
      "3) Okay\n",
      "4) Good\n",
      "5) Great\n",
      "2\n",
      "\n",
      "What time did you wake up this morning?\n",
      "7:50\n",
      "\n",
      "Collecting data about today's Tobacco and Alcohol use\n",
      "~~~~~~~~~~~~~~~~~~~~~~~~~~~~~~~~~~~~\n",
      "\n",
      "\n",
      "Did you use Tobacco today? (Y/N)\n",
      "n\n",
      "\n",
      "Did you use Alcohol today? (Y/N)\n",
      "n\n",
      "Collecting data about today's Exercise\n",
      "~~~~~~~~~~~~~~~~~~~~~~~~~~~~~~~~~~~~\n",
      "\n",
      "Did you exercise today? (Y/N)\n",
      "n\n",
      "Would you like to add another entry?n\n"
     ]
    }
   ],
   "source": [
    "file_csv = \"journal.csv\"\n",
    "\n",
    "journal = Journal().read(file_csv)\n",
    "\n",
    "if(not journal.dataframe):\n",
    "    journal = Journal.new()"
   ]
  },
  {
   "cell_type": "code",
   "execution_count": 3,
   "id": "46388a28",
   "metadata": {
    "scrolled": false
   },
   "outputs": [
    {
     "name": "stdout",
     "output_type": "stream",
     "text": [
      "Journal object's dataframe successfully written to journal.csv\n"
     ]
    },
    {
     "data": {
      "text/plain": [
       "True"
      ]
     },
     "execution_count": 3,
     "metadata": {},
     "output_type": "execute_result"
    }
   ],
   "source": [
    "journal.write(\"journal.csv\")"
   ]
  },
  {
   "cell_type": "code",
   "execution_count": 10,
   "id": "817ce1f2",
   "metadata": {},
   "outputs": [
    {
     "data": {
      "text/plain": [
       "Index(['date', 'time', 'sleep_location', 'fell_asleep_time', 'wake_up_time',\n",
       "       'sleep_quality'],\n",
       "      dtype='object')"
      ]
     },
     "execution_count": 10,
     "metadata": {},
     "output_type": "execute_result"
    }
   ],
   "source": [
    "journal.dataframe.columns"
   ]
  },
  {
   "cell_type": "code",
   "execution_count": 15,
   "id": "3badc2cc",
   "metadata": {},
   "outputs": [
    {
     "data": {
      "text/html": [
       "<div>\n",
       "<style scoped>\n",
       "    .dataframe tbody tr th:only-of-type {\n",
       "        vertical-align: middle;\n",
       "    }\n",
       "\n",
       "    .dataframe tbody tr th {\n",
       "        vertical-align: top;\n",
       "    }\n",
       "\n",
       "    .dataframe thead th {\n",
       "        text-align: right;\n",
       "    }\n",
       "</style>\n",
       "<table border=\"1\" class=\"dataframe\">\n",
       "  <thead>\n",
       "    <tr style=\"text-align: right;\">\n",
       "      <th></th>\n",
       "      <th>date</th>\n",
       "      <th>time</th>\n",
       "      <th>sleep_location</th>\n",
       "      <th>fell_asleep_time</th>\n",
       "      <th>wake_up_time</th>\n",
       "      <th>sleep_quality</th>\n",
       "    </tr>\n",
       "  </thead>\n",
       "  <tbody>\n",
       "    <tr>\n",
       "      <th>0</th>\n",
       "      <td>2021-11-04</td>\n",
       "      <td>2021-11-04 15:41:06.547884</td>\n",
       "      <td>Home</td>\n",
       "      <td>12:30:00</td>\n",
       "      <td>07:15:00</td>\n",
       "      <td>Good</td>\n",
       "    </tr>\n",
       "    <tr>\n",
       "      <th>0</th>\n",
       "      <td>2021-11-04</td>\n",
       "      <td>2021-11-04 15:41:27.189437</td>\n",
       "      <td>Apartment</td>\n",
       "      <td>08:15:00</td>\n",
       "      <td>07:50:00</td>\n",
       "      <td>Bad</td>\n",
       "    </tr>\n",
       "  </tbody>\n",
       "</table>\n",
       "</div>"
      ],
      "text/plain": [
       "         date                       time sleep_location fell_asleep_time  \\\n",
       "0  2021-11-04 2021-11-04 15:41:06.547884           Home         12:30:00   \n",
       "0  2021-11-04 2021-11-04 15:41:27.189437      Apartment         08:15:00   \n",
       "\n",
       "  wake_up_time sleep_quality  \n",
       "0     07:15:00          Good  \n",
       "0     07:50:00           Bad  "
      ]
     },
     "execution_count": 15,
     "metadata": {},
     "output_type": "execute_result"
    }
   ],
   "source": [
    "journal.dataframe"
   ]
  },
  {
   "cell_type": "code",
   "execution_count": null,
   "id": "dd574e50",
   "metadata": {},
   "outputs": [],
   "source": []
  }
 ],
 "metadata": {
  "kernelspec": {
   "display_name": "Python 3",
   "language": "python",
   "name": "python3"
  },
  "language_info": {
   "codemirror_mode": {
    "name": "ipython",
    "version": 3
   },
   "file_extension": ".py",
   "mimetype": "text/x-python",
   "name": "python",
   "nbconvert_exporter": "python",
   "pygments_lexer": "ipython3",
   "version": "3.8.8"
  }
 },
 "nbformat": 4,
 "nbformat_minor": 5
}
