{
 "cells": [
  {
   "cell_type": "code",
   "execution_count": 16,
   "id": "1b33bce0",
   "metadata": {},
   "outputs": [],
   "source": [
    "from journal import Journal"
   ]
  },
  {
   "cell_type": "code",
   "execution_count": 18,
   "id": "d3aa47ad",
   "metadata": {},
   "outputs": [
    {
     "name": "stdout",
     "output_type": "stream",
     "text": [
      "Welcome to the Journaling application!\n",
      "\n",
      "Would you like to add a new entry? (y/n)\n",
      "n\n",
      "\n",
      "Journal object is empty: dataframe attribute is Nonetype\n",
      "\n",
      "<journal.Journal object at 0x000002289334B610>\n"
     ]
    }
   ],
   "source": [
    "FILENAME = \"journal.csv\"\n",
    "# Welcome user\n",
    "print(\"Welcome to the Journaling application!\")\n",
    "\n",
    "journal_obj = Journal.read(FILENAME)\n",
    "\n",
    "response = input(\"\\nWould you like to add a new entry? (y/n)\\n\")\n",
    "while (response.capitalize() != 'N') and (response.capitalize() != \"Y\"):\n",
    "    response = input(\"\\nUnacceptable response, please respond with 'y' to add a new entry or 'n' not to:\\n\")\n",
    "\n",
    "while response.capitalize() == 'Y':\n",
    "    \n",
    "    journal_obj.add_entry()\n",
    "    \n",
    "\n",
    "    response = input(\"\\nWould you like to add another entry?\")\n",
    "\n",
    "    while (response.capitalize() != 'N') and (response.capitalize() != \"Y\"):\n",
    "        response = input(\"Unacceptable response, please respond with 'y' to add a new entry or 'n' not to:\\n\")\n",
    "\n",
    "# write out to file\n",
    "journal_obj.write(FILENAME)\n",
    "print(journal_obj)"
   ]
  },
  {
   "cell_type": "code",
   "execution_count": 13,
   "id": "46388a28",
   "metadata": {
    "scrolled": false
   },
   "outputs": [],
   "source": [
    "k = journal_obj.temp_entry"
   ]
  },
  {
   "cell_type": "code",
   "execution_count": 14,
   "id": "817ce1f2",
   "metadata": {},
   "outputs": [
    {
     "data": {
      "text/plain": [
       "<entry.Entry at 0x228932fef70>"
      ]
     },
     "execution_count": 14,
     "metadata": {},
     "output_type": "execute_result"
    }
   ],
   "source": [
    "k"
   ]
  },
  {
   "cell_type": "code",
   "execution_count": 15,
   "id": "3badc2cc",
   "metadata": {},
   "outputs": [
    {
     "data": {
      "text/html": [
       "<div>\n",
       "<style scoped>\n",
       "    .dataframe tbody tr th:only-of-type {\n",
       "        vertical-align: middle;\n",
       "    }\n",
       "\n",
       "    .dataframe tbody tr th {\n",
       "        vertical-align: top;\n",
       "    }\n",
       "\n",
       "    .dataframe thead th {\n",
       "        text-align: right;\n",
       "    }\n",
       "</style>\n",
       "<table border=\"1\" class=\"dataframe\">\n",
       "  <thead>\n",
       "    <tr style=\"text-align: right;\">\n",
       "      <th></th>\n",
       "      <th>date</th>\n",
       "      <th>time</th>\n",
       "      <th>sleep_location</th>\n",
       "      <th>fell_asleep_time</th>\n",
       "      <th>wake_up_time</th>\n",
       "      <th>sleep_quality</th>\n",
       "    </tr>\n",
       "  </thead>\n",
       "  <tbody>\n",
       "    <tr>\n",
       "      <th>0</th>\n",
       "      <td>2021-11-04</td>\n",
       "      <td>2021-11-04 15:41:06.547884</td>\n",
       "      <td>Home</td>\n",
       "      <td>12:30:00</td>\n",
       "      <td>07:15:00</td>\n",
       "      <td>Good</td>\n",
       "    </tr>\n",
       "    <tr>\n",
       "      <th>0</th>\n",
       "      <td>2021-11-04</td>\n",
       "      <td>2021-11-04 15:41:27.189437</td>\n",
       "      <td>Apartment</td>\n",
       "      <td>08:15:00</td>\n",
       "      <td>07:50:00</td>\n",
       "      <td>Bad</td>\n",
       "    </tr>\n",
       "  </tbody>\n",
       "</table>\n",
       "</div>"
      ],
      "text/plain": [
       "         date                       time sleep_location fell_asleep_time  \\\n",
       "0  2021-11-04 2021-11-04 15:41:06.547884           Home         12:30:00   \n",
       "0  2021-11-04 2021-11-04 15:41:27.189437      Apartment         08:15:00   \n",
       "\n",
       "  wake_up_time sleep_quality  \n",
       "0     07:15:00          Good  \n",
       "0     07:50:00           Bad  "
      ]
     },
     "execution_count": 15,
     "metadata": {},
     "output_type": "execute_result"
    }
   ],
   "source": [
    "journal.dataframe"
   ]
  },
  {
   "cell_type": "code",
   "execution_count": null,
   "id": "dd574e50",
   "metadata": {},
   "outputs": [],
   "source": []
  }
 ],
 "metadata": {
  "kernelspec": {
   "display_name": "Python 3",
   "language": "python",
   "name": "python3"
  },
  "language_info": {
   "codemirror_mode": {
    "name": "ipython",
    "version": 3
   },
   "file_extension": ".py",
   "mimetype": "text/x-python",
   "name": "python",
   "nbconvert_exporter": "python",
   "pygments_lexer": "ipython3",
   "version": "3.8.8"
  }
 },
 "nbformat": 4,
 "nbformat_minor": 5
}
